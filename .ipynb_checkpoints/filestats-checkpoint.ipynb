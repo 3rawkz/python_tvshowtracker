{
 "metadata": {
  "name": "",
  "signature": "sha256:16401d2d269ec6df89b54021cc7b9ed4767c093ba9b484416186733c59d513ea"
 },
 "nbformat": 3,
 "nbformat_minor": 0,
 "worksheets": [
  {
   "cells": [
    {
     "cell_type": "markdown",
     "metadata": {},
     "source": [
      "Implementieren Sie ein Modul mit dem Namen Filestats, das folgende Funktionen enth\u00e4lt:\n",
      "\n",
      "\n",
      "1. count lines(string Dateiname) -> int : ermittelt die Anzahl der Zeilen in einer Datei. Leere Zeilen werden gez\u00e4hlt.\n",
      "2. count characters(string Dateiname) -> int : ermittelt die Anzahl der Buchstaben\n",
      "(a-z und A-Z) in einer Datei"
     ]
    },
    {
     "cell_type": "code",
     "collapsed": false,
     "input": [
      "import string\n",
      "\n",
      "def countLetters(filename):\n",
      "    letters = [letter for letter in open(filename).read() if letter in string.ascii_letters]\n",
      "    return len(open(filename).read())"
     ],
     "language": "python",
     "metadata": {},
     "outputs": [],
     "prompt_number": 24
    },
    {
     "cell_type": "code",
     "collapsed": false,
     "input": [
      "def countLines(filename):\n",
      "    return len(open(filename).readlines())"
     ],
     "language": "python",
     "metadata": {},
     "outputs": [],
     "prompt_number": 25
    },
    {
     "cell_type": "code",
     "collapsed": false,
     "input": [
      "countLines('test.html')\n",
      "countLetters('test.html')"
     ],
     "language": "python",
     "metadata": {},
     "outputs": [
      {
       "metadata": {},
       "output_type": "pyout",
       "prompt_number": 26,
       "text": [
        "3719"
       ]
      }
     ],
     "prompt_number": 26
    },
    {
     "cell_type": "code",
     "collapsed": false,
     "input": [],
     "language": "python",
     "metadata": {},
     "outputs": []
    }
   ],
   "metadata": {}
  }
 ]
}