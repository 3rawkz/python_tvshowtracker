{
 "metadata": {
  "name": "",
  "signature": "sha256:e71f98998adc9cb6d28fe06892cef42c61fb10685b6825f22bcc1bc3c69a1871"
 },
 "nbformat": 3,
 "nbformat_minor": 0,
 "worksheets": []
}