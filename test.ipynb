{
 "worksheets": [
  {
   "cells": [
    {
     "cell_type": "markdown",
     "metadata": {},
     "source": [
      "## Imports"
     ]
    },
    {
     "cell_type": "code",
     "execution_count": null,
     "metadata": {},
     "outputs": [],
     "input": [
      "#import database\n",
      "\n",
      "import wikipydia\n",
      "import sqlite3\n",
      "import tvshowlist\n",
      "import wikipedia_crawler\n",
      "import re\n",
      "\n",
      "#tvShow = \"Vikings\"\n",
      "tvShow = \"Sherlock\"\n",
      "\n",
      "tableStart = '<table class=\"wikitable plainrowheaders\" style=\"width'\n",
      "tableEnd = '</table>'"
     ],
     "language": "python",
     "prompt_number": 256
    },
    {
     "cell_type": "code",
     "execution_count": null,
     "metadata": {},
     "outputs": [],
     "input": [
      "def crawl(tv_show):\n",
      "    tv_show_link = tvshowlist.get_tv_show_link(tv_show)\n",
      "    tv_show_code = tvshowlist.get_tv_show_code(tv_show)\n",
      "    \n",
      "    print('You successfully crawled: ', tv_show_link, tv_show_code)\n",
      "    \n",
      "    tv_show_content = wikipydia.query_text_rendered(tv_show_code[1])[\"html\"].encode('ascii', 'ignore')\n",
      "  \n",
      "    write_html(\"files/output.html\", tv_show_content)\n",
      "\n",
      "\n",
      "def write_html(file_name, content):\n",
      "    f = open(file_name, \"w\")\n",
      "    f.write(content)\n",
      "    f.close()\n",
      "    \n",
      "    \n",
      "def read_html(file_name):\n",
      "    f = open(file_name, \"r\")\n",
      "    content = f.read()\n",
      "    f.close()\n",
      "    return content\n",
      "\n",
      "\n",
      "def remove_before_first_table(file_name):\n",
      "    content = read_html(file_name)\n",
      "    before_first_table = '' + tableStart + content.split(tableStart, 1)[-1]\n",
      "    write_html(\"files/removed_head.html\", before_first_table)\n",
      "    \n",
      "    \n",
      "def remove_a_href(file_name):\n",
      "    content = read_html(file_name)\n",
      "    removed_a_href = re.compile(r'<a href.*>')\n",
      "    write_html(\"files/removed_a_href.html\", removed_a_href.sub('', content))\n",
      "    \n",
      "    \n",
      "def remove_after_last_table(file_name):\n",
      "    content = read_html(file_name)\n",
      "    after_last_table = content.split(content.split(tableStart)[-1].split(tableEnd)[1])[0]\n",
      "    write_html(\"files/removed_footer.html\", after_last_table)\n",
      "\n",
      "\n",
      "def get_number_of_tables(file_name):\n",
      "    number_of_tables = len(re.findall(tableStart, read_html(file_name)))\n",
      "    return number_of_tables\n",
      "\n",
      "\n",
      "def get_tables(file_name):\n",
      "    tables = []\n",
      "    content = read_html(file_name)\n",
      "    \n",
      "    for number in range(get_number_of_tables(file_name)):\n",
      "        tables.append(tableStart + content.split(tableStart)[number+1].split(tableEnd)[0] + tableEnd)\n",
      "        \n",
      "    tables_as_html = ''.join(tables)\n",
      "    \n",
      "    write_html(\"files/tables.html\", tables_as_html)"
     ],
     "language": "python",
     "prompt_number": 266
    },
    {
     "cell_type": "code",
     "execution_count": null,
     "metadata": {},
     "outputs": [
      {
       "output_type": "stream",
       "stream": "stdout",
       "text": [
        "('You successfully crawled: ', 'http://en.wikipedia.org/wiki/List_of_Sherlock_episodes', ['Sherlock', 'List_of_Sherlock_episodes'])\n"
       ]
      }
     ],
     "input": [
      "crawl(tvShow)\n",
      "#remove_before_first_table('files/output.html')\n",
      "#remove_a_href('files/removed_head.html')\n",
      "#remove_after_last_table('files/removed_a_href.html')"
     ],
     "language": "python",
     "prompt_number": 258
    },
    {
     "cell_type": "code",
     "execution_count": null,
     "metadata": {},
     "outputs": [],
     "input": [
      ""
     ],
     "language": "python"
    }
   ]
  }
 ],
 "cells": [],
 "metadata": {
  "name": "",
  "signature": "sha256:617924b4c948a859ce57ddcf1f0229dbfe2659ada6cae08d01be3cc9d49e0ecd"
 },
 "nbformat": 3,
 "nbformat_minor": 0
}